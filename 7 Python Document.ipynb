{
 "cells": [
  {
   "cell_type": "markdown",
   "metadata": {},
   "source": [
    "# Algorithms, Binary Search & Linked Lists"
   ]
  },
  {
   "cell_type": "markdown",
   "metadata": {},
   "source": [
    "## Tasks Today:\n",
    " \n",
    "1) <b>In-Place Algorithms</b> <br>\n",
    " &nbsp;&nbsp;&nbsp;&nbsp; a) Syntax <br>\n",
    " &nbsp;&nbsp;&nbsp;&nbsp; a) Out of Place Algorithm <br>\n",
    " &nbsp;&nbsp;&nbsp;&nbsp; b) In-Class Exercise #1 <br>\n",
    "2) <b>Two Pointers</b> <br>\n",
    "3) <b>Linked Lists</b> <br>\n",
    "4) <b>Merge Sort</b> <br>\n",
    " &nbsp;&nbsp;&nbsp;&nbsp; a) Video on Algorithms <br>\n",
    " &nbsp;&nbsp;&nbsp;&nbsp; b) How it Works <br>\n",
    "5) <b>Exercises</b> <br>\n",
    " &nbsp;&nbsp;&nbsp;&nbsp; a) Exercise #1 - Reverse a List in Place Using an In-Place Algorithm <br>\n",
    " &nbsp;&nbsp;&nbsp;&nbsp; b) Exercise #2 - Find Distinct Words <br>\n",
    " &nbsp;&nbsp;&nbsp;&nbsp; c) Exercise #3 - Write a program to implement a Linear Search Algorithm. <br>"
   ]
  },
  {
   "cell_type": "markdown",
   "metadata": {},
   "source": [
    "## In-Place Algorithms"
   ]
  },
  {
   "cell_type": "markdown",
   "metadata": {},
   "source": [
    "#### Syntax"
   ]
  },
  {
   "cell_type": "code",
   "execution_count": 7,
   "metadata": {},
   "outputs": [
    {
     "name": "stdout",
     "output_type": "stream",
     "text": [
      "Before swap:[20, 4, 10]\n",
      "after swap:[20, 10, 4]\n"
     ]
    }
   ],
   "source": [
    "# var[i],var[i+1]=var[i+1],var[i]\n",
    "#sometimes known as a swap algorithm \n",
    "# here we are reversing the order of our list \n",
    "# in the last swap(my_list,2,0,1)\n",
    "# we are choosing the positions in the swapped version of the list, \n",
    "# so position 2 is x, position 0 is z and position 1 is y\n",
    "\n",
    "def swap(a_list,x,y,z):\n",
    "    a_list[x],a_list[y],a_list[z]=a_list[z],a_list[y],a_list[x]\n",
    "    return[a_list]\n",
    "\n",
    "\n",
    "my_list=[20,4,10]\n",
    "print(f\"Before swap:{my_list}\")\n",
    "\n",
    "#swap\n",
    "swap(my_list,2,0,1)\n",
    "print(f\"after swap:{my_list}\")\n"
   ]
  },
  {
   "cell_type": "markdown",
   "metadata": {},
   "source": [
    "#### Out of Place Algorithm"
   ]
  },
  {
   "cell_type": "code",
   "execution_count": 10,
   "metadata": {},
   "outputs": [
    {
     "name": "stdout",
     "output_type": "stream",
     "text": [
      "before ['a', 'b', 'c', 'd']\n",
      "after ['d', 'c', 'b', 'a']\n"
     ]
    }
   ],
   "source": [
    "#not swapping,completely reversing BUT also copies to another place in memory\n",
    "#this reverses the order of our list and were making a copy so its not affecting the original my_list \n",
    "# the reason the output is 4,10,20 is because we changed the order of the orgiinal list in the cell above to 20,10,4 when \n",
    "#we used our swap function \n",
    "\n",
    "my_list_copy=my_list[::-1]\n",
    "# print(my_list_copy)\n",
    "# print(my_list)\n",
    "\n",
    "array= [\"a\",\"b\",\"c\",\"d\"]\n",
    "new_array= [\"a\"]*len(array)# this is saying hey i want 4 items in this new array beacuse [\"a\"] is one item and the length \n",
    "# of the array is 4 items long and 1x4 is 4 \n",
    "\n",
    "print(\"before\",array)# were just printing the array \n",
    "length = len(array)-1 #were creating a new variable and saying it is equal to the length of the array which is 4 and \n",
    "#subtracting 1 which gives us 3 so the length variable is equal to 3 \n",
    "\n",
    "for i in range(length):    # were saying for each items in a range of 3 \n",
    "    new_array[i]=array[length - i] # new array item 0= the array[length which is 3- i which is 0] so we get position 3 in the array which is \"d\"\n",
    "\n",
    "\n",
    "array= new_array\n",
    "print(\"after\",array)\n",
    "\n",
    "\n",
    "\n",
    "\n"
   ]
  },
  {
   "cell_type": "markdown",
   "metadata": {},
   "source": [
    "#### In-Class Exercise #1 <br>\n",
    "<p>Write a function that takes in four arguments (list, index1, index2, index3), and swaps those three positions in the list passed in.</p>"
   ]
  },
  {
   "cell_type": "code",
   "execution_count": 13,
   "metadata": {},
   "outputs": [
    {
     "data": {
      "text/plain": [
       "[10, 3, 4, 8, 4, 2, 6]"
      ]
     },
     "execution_count": 13,
     "metadata": {},
     "output_type": "execute_result"
    }
   ],
   "source": [
    "l_1 = [10, 4, 3, 8, 4, 2, 6]\n",
    "\n",
    "def swaperooni(list_a,x,y,z):\n",
    "    list_a[x],list_a[y],list_a[z]=list_a[z],list_a[y],list_a[x]\n",
    "    return list_a\n",
    "\n",
    "swaperooni(l_1,2,0,1)\n",
    "\n"
   ]
  },
  {
   "cell_type": "markdown",
   "metadata": {},
   "source": [
    "## Two Pointers"
   ]
  },
  {
   "cell_type": "markdown",
   "metadata": {},
   "source": [
    "#### Syntax"
   ]
  },
  {
   "cell_type": "code",
   "execution_count": 22,
   "metadata": {},
   "outputs": [
    {
     "data": {
      "text/plain": [
       "[22, 11, 4, 8, 9, 12, 3, 2, 1]"
      ]
     },
     "execution_count": 22,
     "metadata": {},
     "output_type": "execute_result"
    }
   ],
   "source": [
    "#alist[left], alist[right]=alist[right],alist[left]\n",
    "\n",
    "def twoPointers(alist):\n",
    "    #create the pointers \n",
    "    left=0\n",
    "    right= len(alist)-1\n",
    "    #set up a lop that works through our list and swaps things one pair at a time \n",
    "    while left<=right:\n",
    "        alist[left],alist[right]=alist[right],alist[left]\n",
    "        left += 1\n",
    "        right -= 1\n",
    "    return alist \n",
    "\n",
    "\n",
    "\n",
    "my_list2= [1,2,3,12,9,8,4,11,22]\n",
    "\n",
    "twoPointers(my_list2)\n",
    "\n",
    "\n"
   ]
  },
  {
   "cell_type": "markdown",
   "metadata": {},
   "source": [
    "#### Video of Algorithms <br>\n",
    "<p>Watch the video about algorithms.</p>\n",
    "\n",
    "https://www.youtube.com/watch?v=Q9HjeFD62Uk\n",
    "\n",
    "https://www.youtube.com/watch?v=kPRA0W1kECg\n",
    "\n",
    "https://www.youtube.com/watch?v=ZZuD6iUe3Pc"
   ]
  },
  {
   "cell_type": "markdown",
   "metadata": {},
   "source": [
    "# Sorting Algorithms"
   ]
  },
  {
   "cell_type": "markdown",
   "metadata": {},
   "source": [
    "#### Bubble Sort\n",
    "\n",
    "Worst Case: O(n^2) Time - O(1) Space"
   ]
  },
  {
   "cell_type": "code",
   "execution_count": 84,
   "metadata": {},
   "outputs": [
    {
     "data": {
      "text/plain": [
       "[1, 22, 25, 34, 44, 66, 88, 100]"
      ]
     },
     "execution_count": 84,
     "metadata": {},
     "output_type": "execute_result"
    }
   ],
   "source": [
    "#best case is is O(n)linear meaning we only go through an object once \n",
    "\n",
    "def swap(i, j, array):\n",
    "    # Swaps the elements at indices i and j in the array\n",
    "    array[i], array[j] = array[j], array[i]\n",
    "\n",
    "def bubbleSort(array):\n",
    "    # Get the length of the array\n",
    "    n = len(array)\n",
    "\n",
    "    # Continue the loop until the array is sorted\n",
    "    while True:\n",
    "        # Assume the array is sorted at the beginning of each pass\n",
    "        is_sorted = True\n",
    "\n",
    "        # Traverse through the array\n",
    "        for i in range(n - 1):\n",
    "            # Compare adjacent elements\n",
    "            if array[i] > array[i + 1]:\n",
    "                # Swap the elements if they are in the wrong order\n",
    "                swap(i, i + 1, array)\n",
    "                # Since a swap occurred, the array is not fully sorted\n",
    "                is_sorted = False\n",
    "\n",
    "        # If no swap occurred in the entire pass, the array is sorted\n",
    "        if is_sorted==True:\n",
    "            # Break out of the loop as the array is now sorted\n",
    "            break\n",
    "\n",
    "    # Return the sorted array\n",
    "    return array\n",
    "\n",
    "        \n",
    "\n",
    "\n",
    "    \n",
    "bubbleSort([22,25,88,44,1,100,34,66])"
   ]
  },
  {
   "cell_type": "markdown",
   "metadata": {},
   "source": [
    "##### Insertion Sort\n",
    "\n",
    "Worst Case: O(n^2) time - O(1)space"
   ]
  },
  {
   "cell_type": "code",
   "execution_count": 101,
   "metadata": {},
   "outputs": [
    {
     "name": "stdout",
     "output_type": "stream",
     "text": [
      "[1, 22, 25, 34, 44, 66, 88, 100]\n"
     ]
    }
   ],
   "source": [
    "def swap(i, j, array):\n",
    "    # This function swaps the elements at positions i and j in the given array.\n",
    "    array[i], array[j] = array[j], array[i]\n",
    "\n",
    "def insertionSort(array):\n",
    "    # This function performs the insertion sort on the given array.\n",
    "    # It takes each element and inserts it into its correct position\n",
    "    # within the sorted part of the array to the left.\n",
    "\n",
    "    # Loop through each element in the array\n",
    "    for i in range(1,len(array)):\n",
    "        # Start from the current element and move towards the beginning of the array\n",
    "        while i > 0 and array[i] < array[i-1]:\n",
    "            # If the current element is smaller than the element to its left,\n",
    "            # swap them until the current element is in its correct position.\n",
    "            swap(i, i-1, array)\n",
    "            i -= 1  # Move to the next position for comparison\n",
    "\n",
    "    return array\n",
    "\n",
    "\n",
    "result = insertionSort([22, 25, 88, 44, 1, 100, 34, 66])\n",
    "print(result)\n"
   ]
  },
  {
   "cell_type": "markdown",
   "metadata": {},
   "source": [
    "## Merge Sort"
   ]
  },
  {
   "cell_type": "markdown",
   "metadata": {},
   "source": [
    "#### How it Works"
   ]
  },
  {
   "cell_type": "code",
   "execution_count": 8,
   "metadata": {},
   "outputs": [
    {
     "name": "stdout",
     "output_type": "stream",
     "text": [
      "splitting... [16, 10, 8, 5, 7]\n",
      "splitting... [16, 10]\n",
      "splitting... [16]\n",
      "splitting... [10]\n",
      "merging... [10, 16]\n",
      "splitting... [8, 5, 7]\n",
      "splitting... [8]\n",
      "splitting... [5, 7]\n",
      "splitting... [5]\n",
      "splitting... [7]\n",
      "merging... [5, 7]\n",
      "merging... [5, 7, 8]\n",
      "merging... [5, 7, 8, 10, 16]\n"
     ]
    }
   ],
   "source": [
    "#step 1: split everything into its own group\n",
    "#step 2: from left to right, merge two groups together\n",
    "#step 3: while merging, place each item in the correct position within the merged group \n",
    "#step 4: continue steps 3-4 until only one group is left\n",
    "\n",
    "\n",
    "from random import randint\n",
    "#used to generate a random list of 5 numbers from 0-20\n",
    "nums=[randint(0,20) for i in range(5)]\n",
    "\n",
    "#write our merge sort \n",
    "def mergeSort(alist):\n",
    "    print(\"splitting...\",alist)\n",
    "\n",
    "    #step1 divide the array into equal parts(as much as possible)\n",
    "    if len(alist)>1:\n",
    "        mid=len(alist) //2\n",
    "        lefthalf= alist[:mid]\n",
    "        righthalf= alist[mid:]\n",
    "\n",
    "        #recursively call mregeSort to perform splits if needed \n",
    "        #THEN merge once the splts are done\n",
    "        mergeSort(lefthalf)\n",
    "        mergeSort(righthalf)\n",
    "\n",
    "        #index pointers for our list \n",
    "        i = 0 #pointer for our left half\n",
    "        j= 0 #pointer for our right half\n",
    "        k = 0 #pointer for our main array \n",
    "\n",
    "        #step2: compare tje lefthalf and righthalf \n",
    "        while i < len(lefthalf) and j < len(righthalf):\n",
    "            if lefthalf[i] < righthalf[j]:\n",
    "                alist[k]=lefthalf[i]\n",
    "                i= i+1 \n",
    "            else:\n",
    "                alist[k]=righthalf[j]\n",
    "                j= j+1\n",
    "            k= k+1 \n",
    "        #step3: while merging place the items in the correct positions\n",
    "        while i < len(lefthalf):\n",
    "            alist[k]=lefthalf[i]\n",
    "            i = i+1\n",
    "            k= k+1\n",
    "            while j < len(righthalf):\n",
    "                alist[k]=righthalf[j]\n",
    "                j = j+1\n",
    "                k= k+1\n",
    "        print(\"merging...\",alist)\n",
    "\n",
    "\n",
    "mergeSort(nums)"
   ]
  },
  {
   "cell_type": "markdown",
   "metadata": {},
   "source": [
    "# Binary Search\n",
    "\n",
    "The Binary Search algorithm works by finding the number in the middle of a given array and comparing it to the target. Given that the array is sorted\n",
    "\n",
    "* The worst case run time for this algorithm is `O(log(n))`"
   ]
  },
  {
   "cell_type": "code",
   "execution_count": 10,
   "metadata": {},
   "outputs": [
    {
     "data": {
      "text/plain": [
       "'the index is...1'"
      ]
     },
     "execution_count": 10,
     "metadata": {},
     "output_type": "execute_result"
    }
   ],
   "source": [
    "# Less= left\n",
    "# Greater= right\n",
    "# list must be SORTED!!\n",
    "\n",
    "def binarySearchHelperFunction(array,target,left,right):\n",
    "    while left<=right:\n",
    "        middle=(left+right)//2\n",
    "        potentialMatch=array[middle]\n",
    "        if target == potentialMatch:\n",
    "            return f\"the index is...{middle}\"\n",
    "        elif target < potentialMatch:\n",
    "            right = middle -1\n",
    "        else:\n",
    "            left= middle + 1\n",
    "    return -1\n",
    "\n",
    "def binarySearch(array,target):\n",
    "    return binarySearchHelperFunction(array,target,0,len(array)-1)\n",
    "\n",
    "binarySearch([22,44,55,66,88,100],44)\n",
    "\n"
   ]
  },
  {
   "cell_type": "markdown",
   "metadata": {},
   "source": [
    "# Exercises"
   ]
  },
  {
   "cell_type": "markdown",
   "metadata": {},
   "source": [
    "### Exercise #1 <br>\n",
    "<p>Reverse the list below in-place using an in-place algorithm.<br>For extra credit: Reverse the strings at the same time.</p>"
   ]
  },
  {
   "cell_type": "code",
   "execution_count": 109,
   "metadata": {},
   "outputs": [
    {
     "data": {
      "text/plain": [
       "['.', 'sentence', 'a', 'is', 'this']"
      ]
     },
     "execution_count": 109,
     "metadata": {},
     "output_type": "execute_result"
    }
   ],
   "source": [
    "words = ['this' , 'is', 'a', 'sentence', '.']\n",
    "\n",
    "def swap(a_list,a,b,c,d,e):\n",
    "    a_list[a],a_list[b],a_list[c],a_list[d],a_list[e]=a_list[e],a_list[d],a_list[c],a_list[b],a_list[a]\n",
    "    return a_list \n",
    "\n",
    "swap(words,0,1,2,3,4)\n"
   ]
  },
  {
   "cell_type": "markdown",
   "metadata": {},
   "source": [
    "### Exercise #2 <br>\n",
    "<p>Create a function that counts how many distinct words are in the string below, then outputs a dictionary with the words as the key and the value as the amount of times that word appears in the string.<br>Should output:<br>{'a': 5,<br>\n",
    " 'abstract': 1,<br>\n",
    " 'an': 3,<br>\n",
    " 'array': 2, ... etc...</p>"
   ]
  },
  {
   "cell_type": "code",
   "execution_count": 24,
   "metadata": {},
   "outputs": [
    {
     "name": "stdout",
     "output_type": "stream",
     "text": [
      "{'In': 1, 'computing,': 1, 'a': 4, 'hash': 4, 'table': 2, 'map': 2, 'is': 1, 'data': 2, 'structure': 2, 'which': 2, 'implements': 1, 'an': 3, 'associative': 1, 'array': 2, 'abstract': 1, 'type,': 1, 'that': 1, 'can': 2, 'keys': 1, 'to': 2, 'values.': 1, 'A': 1, 'uses': 1, 'function': 1, 'compute': 1, 'index': 1, 'into': 1, 'of': 1, 'buckets': 1, 'or': 1, 'slots': 1, 'from': 1, 'the': 1, 'desired': 1, 'value': 1, 'be': 1, 'found': 1}\n"
     ]
    }
   ],
   "source": [
    "a_text = 'In computing, a hash table hash map is a data structure which implements an associative array abstract data type, a structure that can map keys to values. A hash table uses a hash function to compute an index into an array of buckets or slots from which the desired value can be found'\n",
    "\n",
    "def count_distinct_words(input_text):\n",
    "    word_count = {}\n",
    "    for word in input_text.split():\n",
    "        word_count[word] = word_count.get(word, 0) + 1\n",
    "\n",
    "    return word_count\n",
    "\n",
    "\n",
    "result = count_distinct_words(a_text)\n",
    "print(result)\n",
    "\n",
    "\n"
   ]
  },
  {
   "cell_type": "markdown",
   "metadata": {},
   "source": [
    "## Exercise #3\n",
    "\n",
    "Write a program to implement a Linear Search Algorithm. Also in a comment, write the Time Complexity of the following algorithm.\n",
    "\n",
    "#### Hint: Linear Searching will require searching a list for a given number. "
   ]
  },
  {
   "cell_type": "code",
   "execution_count": 18,
   "metadata": {},
   "outputs": [
    {
     "data": {
      "text/plain": [
       "3"
      ]
     },
     "execution_count": 18,
     "metadata": {},
     "output_type": "execute_result"
    }
   ],
   "source": [
    "nums_list=[10,23,45,70,11,15]\n",
    "target=70\n",
    "#if number is not present return -1 \n",
    "\n",
    "\n",
    "def linear_search(arr, target):\n",
    "\n",
    "    for i in range(len(arr)):\n",
    "        if arr[i] == target:\n",
    "            return i  \n",
    "    return -1 \n",
    "\n",
    "\n",
    "linear_search(nums_list,target)\n",
    "\n",
    "# O(n) is the time complexity \n",
    "\n",
    "\n",
    "\n",
    "\n",
    "\n",
    "\n"
   ]
  }
 ],
 "metadata": {
  "kernelspec": {
   "display_name": "Python 3",
   "language": "python",
   "name": "python3"
  },
  "language_info": {
   "codemirror_mode": {
    "name": "ipython",
    "version": 3
   },
   "file_extension": ".py",
   "mimetype": "text/x-python",
   "name": "python",
   "nbconvert_exporter": "python",
   "pygments_lexer": "ipython3",
   "version": "3.11.5"
  }
 },
 "nbformat": 4,
 "nbformat_minor": 2
}
